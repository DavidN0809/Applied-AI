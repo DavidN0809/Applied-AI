{
 "cells": [
  {
   "cell_type": "code",
   "execution_count": 1,
   "metadata": {},
   "outputs": [
    {
     "name": "stdout",
     "output_type": "stream",
     "text": [
      "Downloading train_images...\n"
     ]
    },
    {
     "name": "stderr",
     "output_type": "stream",
     "text": [
      "coco_dataset\\train_images.zip: 100%|██████████| 18.0G/18.0G [05:30<00:00, 58.5MiB/s] \n"
     ]
    },
    {
     "name": "stdout",
     "output_type": "stream",
     "text": [
      "Extracting train_images...\n",
      "Removed coco_dataset\\train_images.zip\n",
      "Downloading val_images...\n"
     ]
    },
    {
     "name": "stderr",
     "output_type": "stream",
     "text": [
      "coco_dataset\\val_images.zip: 100%|██████████| 778M/778M [00:22<00:00, 35.7MiB/s] \n"
     ]
    },
    {
     "name": "stdout",
     "output_type": "stream",
     "text": [
      "Extracting val_images...\n",
      "Removed coco_dataset\\val_images.zip\n",
      "Downloading test_images...\n"
     ]
    },
    {
     "name": "stderr",
     "output_type": "stream",
     "text": [
      "coco_dataset\\test_images.zip: 100%|██████████| 6.19G/6.19G [02:31<00:00, 43.8MiB/s] \n"
     ]
    },
    {
     "name": "stdout",
     "output_type": "stream",
     "text": [
      "Extracting test_images...\n",
      "Removed coco_dataset\\test_images.zip\n",
      "Downloading annotations...\n"
     ]
    },
    {
     "name": "stderr",
     "output_type": "stream",
     "text": [
      "coco_dataset\\annotations.zip: 100%|██████████| 241M/241M [00:06<00:00, 37.9MiB/s] \n"
     ]
    },
    {
     "name": "stdout",
     "output_type": "stream",
     "text": [
      "Extracting annotations...\n",
      "Removed coco_dataset\\annotations.zip\n",
      "COCO dataset download and extraction complete!\n"
     ]
    }
   ],
   "source": [
    "import os\n",
    "import requests\n",
    "from zipfile import ZipFile\n",
    "from tqdm import tqdm\n",
    "\n",
    "def download_file(url, destination):\n",
    "    response = requests.get(url, stream=True)\n",
    "    total_size = int(response.headers.get('content-length', 0))\n",
    "    \n",
    "    with open(destination, 'wb') as file, tqdm(\n",
    "        desc=destination,\n",
    "        total=total_size,\n",
    "        unit='iB',\n",
    "        unit_scale=True,\n",
    "        unit_divisor=1024,\n",
    "    ) as progress_bar:\n",
    "        for data in response.iter_content(chunk_size=1024):\n",
    "            size = file.write(data)\n",
    "            progress_bar.update(size)\n",
    "\n",
    "def extract_zip(zip_path, extract_to):\n",
    "    with ZipFile(zip_path, 'r') as zip_ref:\n",
    "        zip_ref.extractall(extract_to)\n",
    "\n",
    "def download_coco_dataset(base_dir):\n",
    "    os.makedirs(base_dir, exist_ok=True)\n",
    "    \n",
    "    urls = {\n",
    "        'train_images': 'http://images.cocodataset.org/zips/train2017.zip',\n",
    "        'val_images': 'http://images.cocodataset.org/zips/val2017.zip',\n",
    "        'test_images': 'http://images.cocodataset.org/zips/test2017.zip',\n",
    "        'annotations': 'http://images.cocodataset.org/annotations/annotations_trainval2017.zip'\n",
    "    }\n",
    "    \n",
    "    for name, url in urls.items():\n",
    "        zip_path = os.path.join(base_dir, f'{name}.zip')\n",
    "        print(f\"Downloading {name}...\")\n",
    "        download_file(url, zip_path)\n",
    "        \n",
    "        print(f\"Extracting {name}...\")\n",
    "        extract_zip(zip_path, base_dir)\n",
    "        \n",
    "        os.remove(zip_path)\n",
    "        print(f\"Removed {zip_path}\")\n",
    "\n",
    "if __name__ == '__main__':\n",
    "    coco_dir = 'coco_dataset'\n",
    "    download_coco_dataset(coco_dir)\n",
    "    print(\"COCO dataset download and extraction complete!\")"
   ]
  },
  {
   "cell_type": "code",
   "execution_count": null,
   "metadata": {},
   "outputs": [],
   "source": []
  }
 ],
 "metadata": {
  "kernelspec": {
   "display_name": "pytorch",
   "language": "python",
   "name": "python3"
  },
  "language_info": {
   "codemirror_mode": {
    "name": "ipython",
    "version": 3
   },
   "file_extension": ".py",
   "mimetype": "text/x-python",
   "name": "python",
   "nbconvert_exporter": "python",
   "pygments_lexer": "ipython3",
   "version": "3.12.4"
  }
 },
 "nbformat": 4,
 "nbformat_minor": 2
}
